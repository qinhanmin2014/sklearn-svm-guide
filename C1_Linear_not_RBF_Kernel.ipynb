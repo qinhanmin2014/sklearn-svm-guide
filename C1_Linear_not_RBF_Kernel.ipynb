{
 "cells": [
  {
   "cell_type": "markdown",
   "metadata": {},
   "source": [
    "## Number of instances << number of features"
   ]
  },
  {
   "cell_type": "code",
   "execution_count": 1,
   "metadata": {},
   "outputs": [],
   "source": [
    "import numpy as np\n",
    "from sklearn.datasets import load_svmlight_file\n",
    "from sklearn.model_selection import cross_val_score, GridSearchCV\n",
    "from sklearn.svm import LinearSVC, SVC"
   ]
  },
  {
   "cell_type": "code",
   "execution_count": 2,
   "metadata": {},
   "outputs": [],
   "source": [
    "X_train, y_train = load_svmlight_file(\"datasets/leu.combined\")"
   ]
  },
  {
   "cell_type": "markdown",
   "metadata": {},
   "source": [
    "### RBF kernel with parameter selection"
   ]
  },
  {
   "cell_type": "code",
   "execution_count": 3,
   "metadata": {},
   "outputs": [
    {
     "name": "stdout",
     "output_type": "stream",
     "text": [
      "0.9285714285714286 +/- 0.11065666703449763\n"
     ]
    }
   ],
   "source": [
    "params = {\"C\": np.logspace(-5, 15, num=11, base=2),\n",
    "          \"gamma\": np.logspace(3, -15, num=10, base=2)}\n",
    "clf = GridSearchCV(SVC(), params, n_jobs=-1)\n",
    "scores = cross_val_score(clf, X_train, y_train)\n",
    "print(np.mean(scores), \"+/-\", np.std(scores))"
   ]
  },
  {
   "cell_type": "markdown",
   "metadata": {},
   "source": [
    "### Linear kernel with parameter selection"
   ]
  },
  {
   "cell_type": "code",
   "execution_count": 4,
   "metadata": {},
   "outputs": [
    {
     "name": "stdout",
     "output_type": "stream",
     "text": [
      "0.9285714285714286 +/- 0.11065666703449763\n"
     ]
    }
   ],
   "source": [
    "params = {\"C\": np.logspace(-1, 2, num=4, base=2)}\n",
    "clf = GridSearchCV(SVC(kernel=\"linear\"), params, n_jobs=-1)\n",
    "scores = cross_val_score(clf, X_train, y_train)\n",
    "print(np.mean(scores), \"+/-\", np.std(scores))"
   ]
  }
 ],
 "metadata": {
  "kernelspec": {
   "display_name": "dev",
   "language": "python",
   "name": "dev"
  },
  "language_info": {
   "codemirror_mode": {
    "name": "ipython",
    "version": 3
   },
   "file_extension": ".py",
   "mimetype": "text/x-python",
   "name": "python",
   "nbconvert_exporter": "python",
   "pygments_lexer": "ipython3",
   "version": "3.7.3"
  }
 },
 "nbformat": 4,
 "nbformat_minor": 2
}
