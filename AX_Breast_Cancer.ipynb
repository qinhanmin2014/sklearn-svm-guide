{
 "cells": [
  {
   "cell_type": "code",
   "execution_count": 1,
   "metadata": {},
   "outputs": [],
   "source": [
    "import numpy as np\n",
    "from sklearn.datasets import load_breast_cancer\n",
    "from sklearn.model_selection import cross_val_score, GridSearchCV\n",
    "from sklearn.preprocessing import MinMaxScaler, StandardScaler\n",
    "from sklearn.svm import SVC"
   ]
  },
  {
   "cell_type": "code",
   "execution_count": 2,
   "metadata": {},
   "outputs": [],
   "source": [
    "X_train, y_train = load_breast_cancer(return_X_y=True)"
   ]
  },
  {
   "cell_type": "markdown",
   "metadata": {},
   "source": [
    "### Original sets with default parameters (default in libsvm and old default in scikit-learn)"
   ]
  },
  {
   "cell_type": "code",
   "execution_count": 3,
   "metadata": {},
   "outputs": [
    {
     "name": "stdout",
     "output_type": "stream",
     "text": [
      "0.6274259330511736 +/- 0.0010932697582256234\n"
     ]
    }
   ],
   "source": [
    "clf = SVC(C=1, gamma=1 / X_train.shape[1])\n",
    "scores = cross_val_score(clf, X_train, y_train)\n",
    "print(np.mean(scores), \"+/-\", np.std(scores))"
   ]
  },
  {
   "cell_type": "markdown",
   "metadata": {},
   "source": [
    "### Original sets with new default in scikit-learn"
   ]
  },
  {
   "cell_type": "code",
   "execution_count": 4,
   "metadata": {},
   "outputs": [
    {
     "name": "stdout",
     "output_type": "stream",
     "text": [
      "0.9123970757983839 +/- 0.034752107081010265\n"
     ]
    }
   ],
   "source": [
    "clf = SVC(C=1, gamma=\"scale\")\n",
    "scores = cross_val_score(clf, X_train, y_train)\n",
    "print(np.mean(scores), \"+/-\", np.std(scores))"
   ]
  },
  {
   "cell_type": "markdown",
   "metadata": {},
   "source": [
    "### Scaled sets with default parameters (MinMaxScaler)"
   ]
  },
  {
   "cell_type": "code",
   "execution_count": 5,
   "metadata": {},
   "outputs": [
    {
     "name": "stdout",
     "output_type": "stream",
     "text": [
      "0.9613389765294343 +/- 0.004260315767389489\n"
     ]
    }
   ],
   "source": [
    "sc = MinMaxScaler(feature_range=(-1, 1))\n",
    "Xt_train = sc.fit_transform(X_train)\n",
    "clf = SVC(C=1, gamma=1 / Xt_train.shape[1])\n",
    "scores = cross_val_score(clf, Xt_train, y_train)\n",
    "print(np.mean(scores), \"+/-\", np.std(scores))"
   ]
  },
  {
   "cell_type": "markdown",
   "metadata": {},
   "source": [
    "### Scaled sets with parameter selection (MinMaxScaler)"
   ]
  },
  {
   "cell_type": "code",
   "execution_count": 6,
   "metadata": {},
   "outputs": [
    {
     "name": "stdout",
     "output_type": "stream",
     "text": [
      "0.975405925355906 +/- 0.008573177202115626\n"
     ]
    }
   ],
   "source": [
    "sc = MinMaxScaler(feature_range=(-1, 1))\n",
    "Xt_train = sc.fit_transform(X_train)\n",
    "params = {\"C\": np.logspace(-5, 15, num=11, base=2),\n",
    "          \"gamma\": np.logspace(3, -15, num=10, base=2)}\n",
    "clf = GridSearchCV(SVC(), params, n_jobs=-1)\n",
    "scores = cross_val_score(clf, Xt_train, y_train)\n",
    "print(np.mean(scores), \"+/-\", np.std(scores))"
   ]
  },
  {
   "cell_type": "markdown",
   "metadata": {},
   "source": [
    "### Scaled sets with parameter selection (StandardScaler)"
   ]
  },
  {
   "cell_type": "code",
   "execution_count": 7,
   "metadata": {},
   "outputs": [
    {
     "name": "stdout",
     "output_type": "stream",
     "text": [
      "0.9754367064255483 +/- 0.01289533962757828\n"
     ]
    }
   ],
   "source": [
    "sc = StandardScaler()\n",
    "Xt_train = sc.fit_transform(X_train)\n",
    "clf = SVC(C=1, gamma=1 / Xt_train.shape[1])\n",
    "scores = cross_val_score(clf, Xt_train, y_train)\n",
    "print(np.mean(scores), \"+/-\", np.std(scores))"
   ]
  },
  {
   "cell_type": "markdown",
   "metadata": {},
   "source": [
    "### Scaled sets with parameter selection (StandardScaler)"
   ]
  },
  {
   "cell_type": "code",
   "execution_count": 8,
   "metadata": {},
   "outputs": [
    {
     "name": "stdout",
     "output_type": "stream",
     "text": [
      "0.9666487110427088 +/- 0.011492886386086948\n"
     ]
    }
   ],
   "source": [
    "sc = StandardScaler()\n",
    "Xt_train = sc.fit_transform(X_train)\n",
    "params = {\"C\": np.logspace(-5, 15, num=11, base=2),\n",
    "          \"gamma\": np.logspace(3, -15, num=10, base=2)}\n",
    "clf = GridSearchCV(SVC(), params, n_jobs=-1)\n",
    "scores = cross_val_score(clf, Xt_train, y_train)\n",
    "print(np.mean(scores), \"+/-\", np.std(scores))"
   ]
  }
 ],
 "metadata": {
  "kernelspec": {
   "display_name": "dev",
   "language": "python",
   "name": "dev"
  },
  "language_info": {
   "codemirror_mode": {
    "name": "ipython",
    "version": 3
   },
   "file_extension": ".py",
   "mimetype": "text/x-python",
   "name": "python",
   "nbconvert_exporter": "python",
   "pygments_lexer": "ipython3",
   "version": "3.7.3"
  }
 },
 "nbformat": 4,
 "nbformat_minor": 2
}
