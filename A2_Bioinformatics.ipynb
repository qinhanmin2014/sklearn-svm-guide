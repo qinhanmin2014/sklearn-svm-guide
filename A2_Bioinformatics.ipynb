{
 "cells": [
  {
   "cell_type": "code",
   "execution_count": 1,
   "metadata": {},
   "outputs": [],
   "source": [
    "import numpy as np\n",
    "from sklearn.datasets import load_svmlight_file\n",
    "from sklearn.model_selection import cross_val_score, GridSearchCV\n",
    "from sklearn.preprocessing import MinMaxScaler, StandardScaler\n",
    "from sklearn.svm import SVC"
   ]
  },
  {
   "cell_type": "code",
   "execution_count": 2,
   "metadata": {},
   "outputs": [],
   "source": [
    "X_train, y_train = load_svmlight_file(\"datasets/svmguide2\")\n",
    "X_train = X_train.toarray()"
   ]
  },
  {
   "cell_type": "markdown",
   "metadata": {},
   "source": [
    "### Original sets with default parameters (default in libsvm and old default in scikit-learn)"
   ]
  },
  {
   "cell_type": "code",
   "execution_count": 3,
   "metadata": {},
   "outputs": [
    {
     "name": "stdout",
     "output_type": "stream",
     "text": [
      "0.5652843464552324 +/- 0.0055482109710208154\n"
     ]
    }
   ],
   "source": [
    "clf = SVC(C=1, gamma=1 / X_train.shape[1])\n",
    "scores = cross_val_score(clf, X_train, y_train)\n",
    "print(np.mean(scores), \"+/-\", np.std(scores))"
   ]
  },
  {
   "cell_type": "markdown",
   "metadata": {},
   "source": [
    "### Original sets with new default in scikit-learn"
   ]
  },
  {
   "cell_type": "code",
   "execution_count": 4,
   "metadata": {},
   "outputs": [
    {
     "name": "stdout",
     "output_type": "stream",
     "text": [
      "0.8186611384396194 +/- 0.03694885491830515\n"
     ]
    }
   ],
   "source": [
    "clf = SVC(C=1, gamma=\"scale\")\n",
    "scores = cross_val_score(clf, X_train, y_train)\n",
    "print(np.mean(scores), \"+/-\", np.std(scores))"
   ]
  },
  {
   "cell_type": "markdown",
   "metadata": {},
   "source": [
    "### Scaled sets with default parameters (MinMaxScaler)"
   ]
  },
  {
   "cell_type": "code",
   "execution_count": 5,
   "metadata": {},
   "outputs": [
    {
     "name": "stdout",
     "output_type": "stream",
     "text": [
      "0.7827220353486176 +/- 0.052338148653898776\n"
     ]
    }
   ],
   "source": [
    "sc = MinMaxScaler(feature_range=(-1, 1))\n",
    "Xt_train = sc.fit_transform(X_train)\n",
    "clf = SVC(C=1, gamma=1 / Xt_train.shape[1])\n",
    "scores = cross_val_score(clf, Xt_train, y_train)\n",
    "print(np.mean(scores), \"+/-\", np.std(scores))"
   ]
  },
  {
   "cell_type": "markdown",
   "metadata": {},
   "source": [
    "### Scaled sets with parameter selection (MinMaxScaler)"
   ]
  },
  {
   "cell_type": "code",
   "execution_count": 6,
   "metadata": {},
   "outputs": [
    {
     "name": "stdout",
     "output_type": "stream",
     "text": [
      "0.8470677529221833 +/- 0.04151813236539166\n"
     ]
    }
   ],
   "source": [
    "sc = MinMaxScaler(feature_range=(-1, 1))\n",
    "Xt_train = sc.fit_transform(X_train)\n",
    "params = {\"C\": np.logspace(-5, 15, num=11, base=2),\n",
    "          \"gamma\": np.logspace(3, -15, num=10, base=2)}\n",
    "clf = GridSearchCV(SVC(), params, n_jobs=-1)\n",
    "scores = cross_val_score(clf, Xt_train, y_train)\n",
    "print(np.mean(scores), \"+/-\", np.std(scores))"
   ]
  },
  {
   "cell_type": "markdown",
   "metadata": {},
   "source": [
    "### Scaled sets with parameter selection (StandardScaler)"
   ]
  },
  {
   "cell_type": "code",
   "execution_count": 7,
   "metadata": {},
   "outputs": [
    {
     "name": "stdout",
     "output_type": "stream",
     "text": [
      "0.5652843464552324 +/- 0.0055482109710208154\n"
     ]
    }
   ],
   "source": [
    "sc = StandardScaler()\n",
    "Xt_train = sc.fit_transform(X_train)\n",
    "clf = SVC(C=1, gamma=1 / Xt_train.shape[1])\n",
    "scores = cross_val_score(clf, X_train, y_train)\n",
    "print(np.mean(scores), \"+/-\", np.std(scores))"
   ]
  },
  {
   "cell_type": "markdown",
   "metadata": {},
   "source": [
    "### Scaled sets with parameter selection (StandardScaler)"
   ]
  },
  {
   "cell_type": "code",
   "execution_count": 8,
   "metadata": {},
   "outputs": [
    {
     "name": "stdout",
     "output_type": "stream",
     "text": [
      "0.841548282940688 +/- 0.025466762220560928\n"
     ]
    }
   ],
   "source": [
    "sc = StandardScaler()\n",
    "Xt_train = sc.fit_transform(X_train)\n",
    "params = {\"C\": np.logspace(-5, 15, num=11, base=2),\n",
    "          \"gamma\": np.logspace(3, -15, num=10, base=2)}\n",
    "clf = GridSearchCV(SVC(), params, n_jobs=-1)\n",
    "scores = cross_val_score(clf, Xt_train, y_train)\n",
    "print(np.mean(scores), \"+/-\", np.std(scores))"
   ]
  }
 ],
 "metadata": {
  "kernelspec": {
   "display_name": "dev",
   "language": "python",
   "name": "dev"
  },
  "language_info": {
   "codemirror_mode": {
    "name": "ipython",
    "version": 3
   },
   "file_extension": ".py",
   "mimetype": "text/x-python",
   "name": "python",
   "nbconvert_exporter": "python",
   "pygments_lexer": "ipython3",
   "version": "3.7.3"
  }
 },
 "nbformat": 4,
 "nbformat_minor": 2
}
