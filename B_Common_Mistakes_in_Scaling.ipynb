{
 "cells": [
  {
   "cell_type": "code",
   "execution_count": 1,
   "metadata": {},
   "outputs": [],
   "source": [
    "import numpy as np\n",
    "from sklearn.datasets import load_svmlight_file\n",
    "from sklearn.model_selection import GridSearchCV\n",
    "from sklearn.preprocessing import MinMaxScaler, StandardScaler\n",
    "from sklearn.svm import SVC"
   ]
  },
  {
   "cell_type": "code",
   "execution_count": 2,
   "metadata": {},
   "outputs": [],
   "source": [
    "X_train, y_train = load_svmlight_file(\"datasets/svmguide4\")\n",
    "X_test, y_test = load_svmlight_file(\"datasets/svmguide4.t\")\n",
    "X_train = X_train.toarray()\n",
    "X_test = X_test.toarray()"
   ]
  },
  {
   "cell_type": "markdown",
   "metadata": {},
   "source": [
    "### wrong way: use different scaler for training and testing sets (MinMaxScaler)"
   ]
  },
  {
   "cell_type": "code",
   "execution_count": 3,
   "metadata": {},
   "outputs": [
    {
     "data": {
      "text/plain": [
       "0.6923076923076923"
      ]
     },
     "execution_count": 3,
     "metadata": {},
     "output_type": "execute_result"
    }
   ],
   "source": [
    "sc = MinMaxScaler(feature_range=(0, 1))\n",
    "Xt_train = sc.fit_transform(X_train)\n",
    "sc = MinMaxScaler(feature_range=(0, 1))\n",
    "Xt_test = sc.fit_transform(X_test)\n",
    "params = {\"C\": np.logspace(-5, 15, num=11, base=2),\n",
    "          \"gamma\": np.logspace(3, -15, num=10, base=2)}\n",
    "clf = GridSearchCV(SVC(), params, n_jobs=-1)\n",
    "clf.fit(Xt_train, y_train)\n",
    "clf.score(Xt_test, y_test)"
   ]
  },
  {
   "cell_type": "code",
   "execution_count": 4,
   "metadata": {},
   "outputs": [
    {
     "name": "stdout",
     "output_type": "stream",
     "text": [
      "[0. 0. 0. 0. 0. 0. 0. 0. 0. 0.]\n",
      "[1. 1. 1. 1. 1. 1. 1. 1. 1. 1.]\n"
     ]
    }
   ],
   "source": [
    "print(np.min(Xt_train, axis=0))\n",
    "print(np.max(Xt_train, axis=0))"
   ]
  },
  {
   "cell_type": "code",
   "execution_count": 5,
   "metadata": {},
   "outputs": [
    {
     "name": "stdout",
     "output_type": "stream",
     "text": [
      "[0. 0. 0. 0. 0. 0. 0. 0. 0. 0.]\n",
      "[1. 1. 1. 1. 1. 1. 1. 1. 1. 1.]\n"
     ]
    }
   ],
   "source": [
    "print(np.min(Xt_test, axis=0))\n",
    "print(np.max(Xt_test, axis=0))"
   ]
  },
  {
   "cell_type": "markdown",
   "metadata": {},
   "source": [
    "### right way: use same scaler for training and testing sets (MinMaxScaler)"
   ]
  },
  {
   "cell_type": "code",
   "execution_count": 6,
   "metadata": {},
   "outputs": [
    {
     "data": {
      "text/plain": [
       "0.875"
      ]
     },
     "execution_count": 6,
     "metadata": {},
     "output_type": "execute_result"
    }
   ],
   "source": [
    "sc = MinMaxScaler(feature_range=(0, 1))\n",
    "Xt_train = sc.fit_transform(X_train)\n",
    "Xt_test = sc.transform(X_test)\n",
    "params = {\"C\": np.logspace(-5, 15, num=11, base=2),\n",
    "          \"gamma\": np.logspace(3, -15, num=10, base=2)}\n",
    "clf = GridSearchCV(SVC(), params, n_jobs=-1)\n",
    "clf.fit(Xt_train, y_train)\n",
    "clf.score(Xt_test, y_test)"
   ]
  },
  {
   "cell_type": "code",
   "execution_count": 7,
   "metadata": {},
   "outputs": [
    {
     "name": "stdout",
     "output_type": "stream",
     "text": [
      "[0. 0. 0. 0. 0. 0. 0. 0. 0. 0.]\n",
      "[1. 1. 1. 1. 1. 1. 1. 1. 1. 1.]\n"
     ]
    }
   ],
   "source": [
    "print(np.min(Xt_train, axis=0))\n",
    "print(np.max(Xt_train, axis=0))"
   ]
  },
  {
   "cell_type": "code",
   "execution_count": 8,
   "metadata": {},
   "outputs": [
    {
     "name": "stdout",
     "output_type": "stream",
     "text": [
      "[ 1.98617077e-03 -1.36386783e-04  9.42343962e-04  7.92917368e-05\n",
      "  1.92776424e-01 -3.21503503e-02  4.35573035e-02  4.76190476e-02\n",
      "  2.07920792e-01  3.58490566e-01]\n",
      "[0.74017051 0.44209724 0.62910789 0.85825154 0.53847893 0.74069492\n",
      " 0.39820837 1.         0.82178218 0.98742138]\n"
     ]
    }
   ],
   "source": [
    "print(np.min(Xt_test, axis=0))\n",
    "print(np.max(Xt_test, axis=0))"
   ]
  },
  {
   "cell_type": "markdown",
   "metadata": {},
   "source": [
    "### wrong way: use different scaler for training and testing sets (StandardScaler)"
   ]
  },
  {
   "cell_type": "code",
   "execution_count": 9,
   "metadata": {},
   "outputs": [
    {
     "data": {
      "text/plain": [
       "0.782051282051282"
      ]
     },
     "execution_count": 9,
     "metadata": {},
     "output_type": "execute_result"
    }
   ],
   "source": [
    "sc = StandardScaler()\n",
    "Xt_train = sc.fit_transform(X_train)\n",
    "sc = StandardScaler()\n",
    "Xt_test = sc.fit_transform(X_test)\n",
    "params = {\"C\": np.logspace(-5, 15, num=11, base=2),\n",
    "          \"gamma\": np.logspace(3, -15, num=10, base=2)}\n",
    "clf = GridSearchCV(SVC(), params, n_jobs=-1)\n",
    "clf.fit(Xt_train, y_train)\n",
    "clf.score(Xt_test, y_test)"
   ]
  },
  {
   "cell_type": "markdown",
   "metadata": {},
   "source": [
    "### right way: use same scaler for training and testing sets (StandardScaler)"
   ]
  },
  {
   "cell_type": "code",
   "execution_count": 10,
   "metadata": {},
   "outputs": [
    {
     "data": {
      "text/plain": [
       "0.8942307692307693"
      ]
     },
     "execution_count": 10,
     "metadata": {},
     "output_type": "execute_result"
    }
   ],
   "source": [
    "sc = StandardScaler()\n",
    "Xt_train = sc.fit_transform(X_train)\n",
    "Xt_test = sc.transform(X_test)\n",
    "params = {\"C\": np.logspace(-5, 15, num=11, base=2),\n",
    "          \"gamma\": np.logspace(3, -15, num=10, base=2)}\n",
    "clf = GridSearchCV(SVC(), params, n_jobs=-1)\n",
    "clf.fit(Xt_train, y_train)\n",
    "clf.score(Xt_test, y_test)"
   ]
  }
 ],
 "metadata": {
  "kernelspec": {
   "display_name": "dev",
   "language": "python",
   "name": "dev"
  },
  "language_info": {
   "codemirror_mode": {
    "name": "ipython",
    "version": 3
   },
   "file_extension": ".py",
   "mimetype": "text/x-python",
   "name": "python",
   "nbconvert_exporter": "python",
   "pygments_lexer": "ipython3",
   "version": "3.7.3"
  }
 },
 "nbformat": 4,
 "nbformat_minor": 2
}
